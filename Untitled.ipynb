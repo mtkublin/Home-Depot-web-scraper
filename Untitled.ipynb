{
 "cells": [
  {
   "cell_type": "code",
   "execution_count": 1,
   "metadata": {},
   "outputs": [],
   "source": [
    "import json\n",
    "import requests\n",
    "from bs4 import BeautifulSoup"
   ]
  },
  {
   "cell_type": "code",
   "execution_count": 2,
   "metadata": {},
   "outputs": [],
   "source": [
    "BASE_URL = \"https://www.homedepot.com\"\n",
    "STORES = {\n",
    "    \"ny\": \"6177\",\n",
    "    \"dallas\": \"589\"\n",
    "}"
   ]
  },
  {
   "cell_type": "code",
   "execution_count": 3,
   "metadata": {},
   "outputs": [],
   "source": [
    "def get_navigation():\n",
    "    url = f\"{BASE_URL}/hdus/en_US/DTCCOMNEW/fetch/headerFooterFlyout-8.json\"\n",
    "    req = requests.get(\n",
    "        url,\n",
    "        headers={\"user-agent\": \"Mozilla/5.0 (Windows NT 10.0; Win64; x64)\"}\n",
    "    )\n",
    "    navigation = req.json()['header']['primaryNavigation']\n",
    "    return navigation"
   ]
  },
  {
   "cell_type": "code",
   "execution_count": 4,
   "metadata": {},
   "outputs": [],
   "source": [
    "def get_nav_url(department, sub_department, product_category=None, navigation=None):\n",
    "    global BASE_URL\n",
    "    \n",
    "    if not navigation:\n",
    "        navigation = get_navigation()\n",
    "    \n",
    "    try:\n",
    "        current_obj = [d for d in navigation if d['title'] == department][0]\n",
    "    except IndexError:\n",
    "        return None\n",
    "    \n",
    "    try:\n",
    "        current_obj = [sd for sd in current_obj['l2'] if sd['name'] == sub_department][0]\n",
    "    except IndexError:\n",
    "        return None\n",
    "    \n",
    "    if product_category:\n",
    "        try:\n",
    "            current_obj = [pc for pc in current_obj['l3'] if pc['name'] == product_category][0]\n",
    "        except IndexError:\n",
    "            return None\n",
    "    \n",
    "    nav_url = current_obj['url'].replace(\"SECURE_SUPPORTED\", BASE_URL)\n",
    "    \n",
    "    return nav_url"
   ]
  },
  {
   "cell_type": "code",
   "execution_count": 30,
   "metadata": {},
   "outputs": [
    {
     "name": "stdout",
     "output_type": "stream",
     "text": [
      "https://www.homedepot.com/b/Appliances-Dishwashers/N-5yc1vZc3po\n",
      "https://www.homedepot.com/b/Appliances-Refrigerators/N-5yc1vZc3pi\n",
      "https://www.homedepot.com/b/Furniture-Bedroom-Furniture-Mattresses/N-5yc1vZc7oe\n"
     ]
    }
   ],
   "source": [
    "data = [\n",
    "    (\"Appliances\", \"Dishwashers\", None),\n",
    "    (\"Appliances\", \"Refrigerators\", None),\n",
    "    (\"Decor & Furniture\", \"Bedroom Furniture\", \"Mattresses\"),\n",
    "]\n",
    "\n",
    "for dp, sbdp, prct in data:\n",
    "    print(get_nav_url(dp, sbdp, prct))"
   ]
  },
  {
   "cell_type": "code",
   "execution_count": 5,
   "metadata": {},
   "outputs": [],
   "source": [
    "def get_body(url):\n",
    "    req = requests.get(\n",
    "        url, \n",
    "        headers={\"user-agent\": \"Mozilla/5.0 (Windows NT 10.0; Win64; x64)\"}\n",
    "    )\n",
    "    return BeautifulSoup(req.content)"
   ]
  },
  {
   "cell_type": "code",
   "execution_count": 6,
   "metadata": {},
   "outputs": [],
   "source": [
    "def get_brands_from_soup(soup, brand_header=\"Brands\"):\n",
    "    global BASE_URL\n",
    "    \n",
    "    nav_pane = soup.find(id=\"ColumnRail_thd_20cf\")\n",
    "        \n",
    "    nav_sections = nav_pane.find_all(class_=\"customNav__container\")\n",
    "    try:\n",
    "        nav_brands = [section for section in nav_sections if section.find(class_=\"customNav__heading\").text == brand_header][0]\n",
    "    except IndexError:\n",
    "        return None\n",
    "    \n",
    "    nav_brands = [brand.a for brand in nav_brands.find_all(\"li\") if brand.a]\n",
    "    \n",
    "    brand_urls = {\n",
    "        brand.text.replace(\"®\", \"\"): f\"{BASE_URL}{brand['href']}\"\n",
    "        for brand in nav_brands\n",
    "    }\n",
    "    \n",
    "    return brand_urls\n",
    "\n",
    "def get_brands_from_api(nav_param, store_id, sub_department):\n",
    "    global BASE_URL\n",
    "    \n",
    "    req = requests.post(\n",
    "        f\"{BASE_URL}/product-information/model\",\n",
    "        headers={    \n",
    "            'user-agent': 'Mozilla/5.0 (Windows NT 10.0; Win64; x64)',\n",
    "            'x-experience-name': 'major-appliances' if sub_department in {\"Dishwashers\", \"Refrigerators\"} else 'hd-home'\n",
    "        },\n",
    "        json={\n",
    "            \"operationName\": \"searchModel\", \n",
    "            \"query\": 'query searchModel($pageSize: Int, $startIndex: Int, $orderBy: ProductSort, $filter: ProductFilter, $storeId: String, $zipCode: String, $skipInstallServices: Boolean = true, $skipSpecificationGroup: Boolean = false, $keyword: String, $navParam: String, $storefilter: StoreFilter = ALL, $channel: Channel = DESKTOP, $additionalSearchParams: AdditionalParams) { searchModel(keyword: $keyword, navParam: $navParam, storefilter: $storefilter, storeId: $storeId, channel: $channel, additionalSearchParams: $additionalSearchParams) { metadata { categoryID analytics { semanticTokens dynamicLCA __typename } canonicalUrl searchRedirect clearAllRefinementsURL contentType cpoData { cpoCount cpoOnly totalCount __typename } isStoreDisplay productCount { inStore __typename } stores { storeId storeName address { postalCode __typename } nearByStores { storeId storeName distance address { postalCode __typename } __typename } __typename } __typename } products(pageSize: $pageSize, startIndex: $startIndex, orderBy: $orderBy, filter: $filter) { identifiers { storeSkuNumber canonicalUrl brandName modelNumber productType productLabel itemId parentId isSuperSku __typename } itemId dataSources availabilityType { discontinued type __typename } badges(storeId: $storeId) { name __typename } details { collection { collectionId name url __typename } __typename } favoriteDetail { count __typename } fulfillment(storeId: $storeId, zipCode: $zipCode) { fulfillmentOptions { type fulfillable services { type locations { inventory { isInStock isLimitedQuantity isOutOfStock isUnavailable quantity maxAllowedBopisQty minAllowedBopisQty __typename } curbsidePickupFlag isBuyInStoreCheckNearBy distance isAnchor locationId state storeName storePhone type __typename } deliveryTimeline deliveryDates { startDate endDate __typename } deliveryCharge dynamicEta { hours minutes __typename } hasFreeShipping freeDeliveryThreshold totalCharge __typename } __typename } anchorStoreStatus anchorStoreStatusType backordered backorderedShipDate bossExcludedShipStates excludedShipStates seasonStatusEligible onlineStoreStatus onlineStoreStatusType __typename } info { isBuryProduct isSponsored isGenericProduct isLiveGoodsProduct sponsoredBeacon { onClickBeacon onViewBeacon __typename } sponsoredMetadata { campaignId placementId slotId __typename } globalCustomConfigurator { customExperience __typename } returnable hidePrice productSubType { name link __typename } categoryHierarchy ecoRebate quantityLimit sskMin sskMax unitOfMeasureCoverage wasMaxPriceRange wasMinPriceRange swatches { isSelected itemId label swatchImgUrl url value __typename } totalNumberOfOptions __typename } installServices @skip(if: $skipInstallServices) { scheduleAMeasure __typename } media { images { url type subType sizes __typename } __typename } reviews { ratingsReviews { averageRating totalReviews __typename } __typename } pricing(storeId: $storeId) { value alternatePriceDisplay alternate { bulk { pricePerUnit thresholdQuantity value __typename } unit { caseUnitOfMeasure unitsOriginalPrice unitsPerCase value __typename } __typename } original mapAboveOriginalPrice message promotion { type description { shortDesc longDesc __typename } dollarOff percentageOff savingsCenter savingsCenterPromos specialBuySavings specialBuyDollarOff specialBuyPercentageOff dates { start end __typename } experienceTag __typename } specialBuy unitOfMeasure __typename } keyProductFeatures { keyProductFeaturesItems { features { name refinementId refinementUrl value __typename } __typename } __typename } specificationGroup @skip(if: $skipSpecificationGroup) { specifications { specName specValue __typename } specTitle __typename } sizeAndFitDetail { attributeGroups { attributes { attributeName dimensions __typename } dimensionLabel productType __typename } __typename } __typename } searchReport { totalProducts didYouMean correctedKeyword keyword pageSize searchUrl sortBy sortOrder startIndex __typename } relatedResults { universalSearch { title __typename } relatedServices { label __typename } visualNavs { label imageId webUrl categoryId imageURL __typename } visualNavContainsEvents relatedKeywords { keyword __typename } __typename } taxonomy { brandLinkUrl breadCrumbs { browseUrl creativeIconUrl deselectUrl dimensionId dimensionName label refinementKey url __typename } __typename } templates partialTemplates dimensions { label refinements { refinementKey label recordCount selected imgUrl url nestedRefinements { label url recordCount refinementKey __typename } __typename } collapse dimensionId isVisualNav nestedRefinementsLimit visualNavSequence __typename } orangeGraph { universalSearchArray { pods { title description imageUrl link __typename } info { title __typename } __typename } __typename } id appliedDimensions { label refinements { label refinementKey url __typename } __typename } __typename }}',\n",
    "            \"variables\": {\n",
    "                \"navParam\": nav_param,\n",
    "                \"storeId\": store_id\n",
    "            }\n",
    "        }\n",
    "    )\n",
    "    \n",
    "    dims = req.json()['data']['searchModel']['dimensions']\n",
    "    brands = [d for d in dims if d['label'] == \"Brand\"][0]['refinements']\n",
    "    \n",
    "    return {b['label']: b['url'] for b in brands}"
   ]
  },
  {
   "cell_type": "code",
   "execution_count": 7,
   "metadata": {},
   "outputs": [],
   "source": [
    "def get_products(nav_param, store_id, sub_department):\n",
    "    global BASE_URL\n",
    "    \n",
    "    req = requests.post(\n",
    "        f\"{BASE_URL}/product-information/model\",\n",
    "        headers={    \n",
    "            'user-agent': 'Mozilla/5.0 (Windows NT 10.0; Win64; x64)',\n",
    "            'x-experience-name': 'major-appliances' if sub_department in {\"Dishwashers\", \"Refrigerators\"} else 'hd-home'\n",
    "        },\n",
    "        json={\n",
    "            \"operationName\": \"searchModel\", \n",
    "            \"query\": 'query searchModel($pageSize: Int, $startIndex: Int, $orderBy: ProductSort, $filter: ProductFilter, $storeId: String, $zipCode: String, $skipInstallServices: Boolean = true, $skipSpecificationGroup: Boolean = false, $keyword: String, $navParam: String, $storefilter: StoreFilter = ALL, $channel: Channel = DESKTOP, $additionalSearchParams: AdditionalParams) { searchModel(keyword: $keyword, navParam: $navParam, storefilter: $storefilter, storeId: $storeId, channel: $channel, additionalSearchParams: $additionalSearchParams) { metadata { categoryID analytics { semanticTokens dynamicLCA __typename } canonicalUrl searchRedirect clearAllRefinementsURL contentType cpoData { cpoCount cpoOnly totalCount __typename } isStoreDisplay productCount { inStore __typename } stores { storeId storeName address { postalCode __typename } nearByStores { storeId storeName distance address { postalCode __typename } __typename } __typename } __typename } products(pageSize: $pageSize, startIndex: $startIndex, orderBy: $orderBy, filter: $filter) { identifiers { storeSkuNumber canonicalUrl brandName modelNumber productType productLabel itemId parentId isSuperSku __typename } itemId dataSources availabilityType { discontinued type __typename } badges(storeId: $storeId) { name __typename } details { collection { collectionId name url __typename } __typename } favoriteDetail { count __typename } fulfillment(storeId: $storeId, zipCode: $zipCode) { fulfillmentOptions { type fulfillable services { type locations { inventory { isInStock isLimitedQuantity isOutOfStock isUnavailable quantity maxAllowedBopisQty minAllowedBopisQty __typename } curbsidePickupFlag isBuyInStoreCheckNearBy distance isAnchor locationId state storeName storePhone type __typename } deliveryTimeline deliveryDates { startDate endDate __typename } deliveryCharge dynamicEta { hours minutes __typename } hasFreeShipping freeDeliveryThreshold totalCharge __typename } __typename } anchorStoreStatus anchorStoreStatusType backordered backorderedShipDate bossExcludedShipStates excludedShipStates seasonStatusEligible onlineStoreStatus onlineStoreStatusType __typename } info { isBuryProduct isSponsored isGenericProduct isLiveGoodsProduct sponsoredBeacon { onClickBeacon onViewBeacon __typename } sponsoredMetadata { campaignId placementId slotId __typename } globalCustomConfigurator { customExperience __typename } returnable hidePrice productSubType { name link __typename } categoryHierarchy ecoRebate quantityLimit sskMin sskMax unitOfMeasureCoverage wasMaxPriceRange wasMinPriceRange swatches { isSelected itemId label swatchImgUrl url value __typename } totalNumberOfOptions __typename } installServices @skip(if: $skipInstallServices) { scheduleAMeasure __typename } media { images { url type subType sizes __typename } __typename } reviews { ratingsReviews { averageRating totalReviews __typename } __typename } pricing(storeId: $storeId) { value alternatePriceDisplay alternate { bulk { pricePerUnit thresholdQuantity value __typename } unit { caseUnitOfMeasure unitsOriginalPrice unitsPerCase value __typename } __typename } original mapAboveOriginalPrice message promotion { type description { shortDesc longDesc __typename } dollarOff percentageOff savingsCenter savingsCenterPromos specialBuySavings specialBuyDollarOff specialBuyPercentageOff dates { start end __typename } experienceTag __typename } specialBuy unitOfMeasure __typename } keyProductFeatures { keyProductFeaturesItems { features { name refinementId refinementUrl value __typename } __typename } __typename } specificationGroup @skip(if: $skipSpecificationGroup) { specifications { specName specValue __typename } specTitle __typename } sizeAndFitDetail { attributeGroups { attributes { attributeName dimensions __typename } dimensionLabel productType __typename } __typename } __typename } searchReport { totalProducts didYouMean correctedKeyword keyword pageSize searchUrl sortBy sortOrder startIndex __typename } relatedResults { universalSearch { title __typename } relatedServices { label __typename } visualNavs { label imageId webUrl categoryId imageURL __typename } visualNavContainsEvents relatedKeywords { keyword __typename } __typename } taxonomy { brandLinkUrl breadCrumbs { browseUrl creativeIconUrl deselectUrl dimensionId dimensionName label refinementKey url __typename } __typename } templates partialTemplates dimensions { label refinements { refinementKey label recordCount selected imgUrl url nestedRefinements { label url recordCount refinementKey __typename } __typename } collapse dimensionId isVisualNav nestedRefinementsLimit visualNavSequence __typename } orangeGraph { universalSearchArray { pods { title description imageUrl link __typename } info { title __typename } __typename } __typename } id appliedDimensions { label refinements { label refinementKey url __typename } __typename } __typename }}',\n",
    "            \"variables\": {\n",
    "                \"navParam\": nav_param,\n",
    "                \"storeId\": store_id\n",
    "            }\n",
    "        }\n",
    "    )\n",
    "    \n",
    "    products = req.json()['data']['searchModel']['products']\n",
    "    \n",
    "    return products"
   ]
  },
  {
   "cell_type": "code",
   "execution_count": 16,
   "metadata": {},
   "outputs": [],
   "source": [
    "def transform_product(product):\n",
    "    product_data = {\n",
    "        \"url\": product['identifiers']['canonicalUrl'],\n",
    "        \"brand\": product['identifiers']['brandName'],\n",
    "        \"model_number\": product['identifiers']['modelNumber'],\n",
    "        \"product_type\": product['identifiers']['productType'],\n",
    "        \"product_label\": product['identifiers']['productLabel'],\n",
    "        \"item_id\": product['itemId'],\n",
    "        \"availability\": None if product['availabilityType']['discontinued'] else product['availabilityType']['type'],\n",
    "        \"average_rating\": product['reviews']['ratingsReviews']['averageRating'],\n",
    "        \"reviews_number\": product['reviews']['ratingsReviews']['totalReviews'],\n",
    "        \"price\": product['pricing']['value'],\n",
    "        \"features\": {\"_\".join(f['name'].lower().split()): f['value'] for f in product['keyProductFeatures']['keyProductFeaturesItems'][0]['features']}\n",
    "    }\n",
    "    return product_data"
   ]
  },
  {
   "cell_type": "code",
   "execution_count": 17,
   "metadata": {},
   "outputs": [],
   "source": [
    "def get_appliances(brand, store_id, sub_department, *args, **kwargs):\n",
    "    if sub_department not in {\"Dishwashers\", \"Refrigerators\"}:\n",
    "        raise ValueError(\"Wrong sub department\")\n",
    "        \n",
    "    url = get_nav_url(\"Appliances\", sub_department)\n",
    "    soup = get_body(url)\n",
    "    nav_brands = get_brands_from_soup(soup, \"Brands\" if sub_department == \"Dishwashers\" else \"Top Refrigerator Brands\")\n",
    "    brand_url = nav_brands[brand]\n",
    "    prods = get_products(brand_url.split(\"N-\")[-1], store_id, sub_department)\n",
    "\n",
    "    return prods\n",
    "\n",
    "def get_mattresses(brand, store_id, sub_department, *args, **kwargs):\n",
    "    nv_prm = get_nav_url(\"Decor & Furniture\", \"Bedroom Furniture\", \"Mattresses\").split(\"N-\")[-1]\n",
    "    nav_brands = get_brands_from_api(nv_prm, store_id, sub_department)\n",
    "    brand_url = nav_brands[brand]\n",
    "    prods = get_products(brand_url.split(\"N-\")[-1], store_id, sub_department)\n",
    "\n",
    "    return prods\n",
    "\n",
    "def products_factory(brand, store_id, sub_department):\n",
    "    func_dict = {\n",
    "        \"Dishwashers\": get_appliances,\n",
    "        \"Refrigerators\": get_appliances,\n",
    "        \"Decor & Furniture\": get_mattresses\n",
    "    }\n",
    "    func = func_dict[sub_department]\n",
    "    \n",
    "    return [transform_product(p) for p in func(brand, store_id, sub_department)]"
   ]
  },
  {
   "cell_type": "code",
   "execution_count": 18,
   "metadata": {},
   "outputs": [],
   "source": [
    "data = [\n",
    "    (\"Dishwashers\", \"LG\"),\n",
    "    (\"Dishwashers\", \"Samsung\"),\n",
    "    (\"Refrigerators\", \"Whirlpool\"),\n",
    "    (\"Refrigerators\", \"GE Appliances\"),\n",
    "    (\"Decor & Furniture\", \"Sealy\"),\n",
    "]"
   ]
  },
  {
   "cell_type": "code",
   "execution_count": 24,
   "metadata": {},
   "outputs": [],
   "source": [
    "def to_snake_case(string):\n",
    "    return '_'.join(string.lower().split())"
   ]
  },
  {
   "cell_type": "code",
   "execution_count": 23,
   "metadata": {},
   "outputs": [],
   "source": [
    "import os\n",
    "\n",
    "prod_dir = \"products\"\n",
    "if not os.path.exists(prod_dir):\n",
    "    os.mkdir(prod_dir)"
   ]
  },
  {
   "cell_type": "code",
   "execution_count": 28,
   "metadata": {},
   "outputs": [
    {
     "name": "stdout",
     "output_type": "stream",
     "text": [
      "Elapsed: 1.343376636505127; nb products: 10\n",
      "Elapsed: 1.5330893993377686; nb products: 10\n",
      "Elapsed: 1.2989161014556885; nb products: 7\n",
      "Elapsed: 1.0974972248077393; nb products: 7\n",
      "Elapsed: 1.2269799709320068; nb products: 24\n",
      "Elapsed: 1.4655628204345703; nb products: 24\n",
      "Elapsed: 1.3327343463897705; nb products: 24\n",
      "Elapsed: 1.7615044116973877; nb products: 24\n",
      "Elapsed: 1.2806460857391357; nb products: 24\n",
      "Elapsed: 1.3475773334503174; nb products: 24\n"
     ]
    }
   ],
   "source": [
    "import time\n",
    "for sub_dep, brnd in data:\n",
    "    for store_loc, store_id in STORES.items():\n",
    "        start = time.time()\n",
    "        products = products_factory(brnd, store_id, sub_dep)\n",
    "        end = time.time()\n",
    "        \n",
    "        file_path = os.path.join(prod_dir, f\"{store_loc}_{to_snake_case(sub_dep)}_{to_snake_case(brnd)}.json\")\n",
    "        with open(file_path, \"w\") as f:\n",
    "            json.dump(products, f)\n",
    "            \n",
    "        print(f\"Elapsed: {end - start}; nb products: {len(products)}\")"
   ]
  },
  {
   "cell_type": "code",
   "execution_count": null,
   "metadata": {},
   "outputs": [],
   "source": []
  }
 ],
 "metadata": {
  "kernelspec": {
   "display_name": "Python 3",
   "language": "python",
   "name": "python3"
  },
  "language_info": {
   "codemirror_mode": {
    "name": "ipython",
    "version": 3
   },
   "file_extension": ".py",
   "mimetype": "text/x-python",
   "name": "python",
   "nbconvert_exporter": "python",
   "pygments_lexer": "ipython3",
   "version": "3.8.5"
  }
 },
 "nbformat": 4,
 "nbformat_minor": 4
}
